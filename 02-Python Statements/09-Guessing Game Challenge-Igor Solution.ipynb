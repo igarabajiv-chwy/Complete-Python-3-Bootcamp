{
 "cells": [
  {
   "cell_type": "markdown",
   "metadata": {},
   "source": [
    "# Guessing Game Challenge\n",
    "\n",
    "Let's use `while` loops to create a guessing game.\n",
    "\n",
    "The Challenge:\n",
    "\n",
    "Write a program that picks a random integer from 1 to 100, and has players guess the number. The rules are:\n",
    "\n",
    "1. If a player's guess is less than 1 or greater than 100, say \"OUT OF BOUNDS\"\n",
    "2. On a player's first turn, if their guess is\n",
    " * within 10 of the number, return \"WARM!\"\n",
    " * further than 10 away from the number, return \"COLD!\"\n",
    "3. On all subsequent turns, if a guess is \n",
    " * closer to the number than the previous guess return \"WARMER!\"\n",
    " * farther from the number than the previous guess, return \"COLDER!\"\n",
    "4. When the player's guess equals the number, tell them they've guessed correctly *and* how many guesses it took!\n",
    "\n",
    "You can try this from scratch, or follow the steps outlined below. A separate Solution notebook has been provided. Good luck!\n"
   ]
  },
  {
   "cell_type": "markdown",
   "metadata": {},
   "source": [
    "#### First, pick a random integer from 1 to 100 using the random module and assign it to a variable\n",
    "\n",
    "Note: `random.randint(a,b)` returns a random integer in range `[a, b]`, including both end points."
   ]
  },
  {
   "cell_type": "code",
   "execution_count": null,
   "metadata": {},
   "outputs": [],
   "source": []
  },
  {
   "cell_type": "markdown",
   "metadata": {},
   "source": [
    "#### Next, print an introduction to the game and explain the rules"
   ]
  },
  {
   "cell_type": "code",
   "execution_count": null,
   "metadata": {},
   "outputs": [],
   "source": []
  },
  {
   "cell_type": "markdown",
   "metadata": {},
   "source": [
    "#### Create a list to store guesses\n",
    "\n",
    "Hint: zero is a good placeholder value. It's useful because it evaluates to \"False\""
   ]
  },
  {
   "cell_type": "code",
   "execution_count": null,
   "metadata": {},
   "outputs": [],
   "source": []
  },
  {
   "cell_type": "markdown",
   "metadata": {},
   "source": [
    "#### Write a `while` loop that asks for a valid guess. Test it a few times to make sure it works."
   ]
  },
  {
   "cell_type": "code",
   "execution_count": null,
   "metadata": {},
   "outputs": [],
   "source": [
    "while True:\n",
    "    \n",
    "    pass"
   ]
  },
  {
   "cell_type": "markdown",
   "metadata": {},
   "source": [
    "#### Write a `while` loop that compares the player's guess to our number. If the player guesses correctly, break from the loop. Otherwise, tell the player if they're warmer or colder, and continue asking for guesses.\n",
    "\n",
    "Some hints:\n",
    "* it may help to sketch out all possible combinations on paper first!\n",
    "* you can use the `abs()` function to find the positive difference between two numbers\n",
    "* if you append all new guesses to the list, then the previous guess is given as `guesses[-2]`"
   ]
  },
  {
   "cell_type": "code",
   "execution_count": null,
   "metadata": {},
   "outputs": [],
   "source": [
    "while True:\n",
    "\n",
    "    # we can copy the code from above to take an input\n",
    "\n",
    "    pass"
   ]
  },
  {
   "cell_type": "code",
   "execution_count": 1,
   "metadata": {},
   "outputs": [],
   "source": [
    "from random import randint"
   ]
  },
  {
   "cell_type": "code",
   "execution_count": 2,
   "metadata": {},
   "outputs": [
    {
     "name": "stdout",
     "output_type": "stream",
     "text": [
      "Rand number is 43\n",
      "Make a guess: 90\n",
      "It's WARM!\n",
      "Do you want to continue Y/N: y\n",
      "Make a guess: 91\n",
      "It's getting COLDER!\n",
      "Do you want to continue Y/N: y\n",
      "Make a guess: 50\n",
      "It's getting WARMER!\n",
      "Do you want to continue Y/N: y\n",
      "Make a guess: 44\n",
      "It's getting WARMER!\n",
      "Do you want to continue Y/N: y\n",
      "Make a guess: 43\n",
      "Nice! You guessed it. It only took you 5 times to guess it!\n",
      "Do you want to continue Y/N: n\n"
     ]
    }
   ],
   "source": [
    "\n",
    "answer = 'Y'\n",
    "counter = 0\n",
    "previousguess = None\n",
    "currentguess = None\n",
    "nextguess = None\n",
    "previousguess = None\n",
    "delta = None\n",
    "number = randint(1,100)\n",
    "print('Rand number is ' + str(number))\n",
    "while answer.upper() == 'Y':\n",
    "\tcurrentguess = input('Make a guess: ')\n",
    "\tcounter +=1\n",
    "\tif counter == 1:\n",
    "\t\tif int(currentguess) == number:\n",
    "\t\t\tcounter = 0\n",
    "\t\t\tprint(f'Good Lord! You guessed it. It took you {counter} times to guess it!')\n",
    "\t\t\tanswer = input('Do you want to continue Y/N: ')\n",
    "\t\t\tif answer.upper() == 'Y':\n",
    "\t\t\t\tcontinue\n",
    "\t\t\telse:\n",
    "\t\t\t\tbreak\n",
    "\t\telif int(currentguess) < 1 or int(currentguess) > 100:\n",
    "\t\t\tpreviousguess = currentguess\n",
    "\t\t\tprint('Sorry, out of bounds!')\n",
    "\t\t\tanswer = input('Do you want to continue Y/N: ')\n",
    "\t\t\tif answer.upper() == 'Y':\n",
    "\t\t\t\tcontinue\n",
    "\t\t\telse:\n",
    "\t\t\t\tbreak\n",
    "\t\telif ((int(currentguess) > number - 10) or (int(currentguess) < number + 10)):\n",
    "\t\t\tpreviousguess = currentguess\n",
    "\t\t\tdelta = abs(int(currentguess) - int(number))\n",
    "\t\t\tprint('It\\'s WARM!')\n",
    "\t\t\tanswer = input('Do you want to continue Y/N: ')\n",
    "\t\t\tif answer.upper() == 'Y':\n",
    "\t\t\t\tcontinue\n",
    "\t\t\telse:\n",
    "\t\t\t\tbreak\n",
    "\t\telif ((int(currentguess) > number + 10) or (int(currentguess) < number - 10)):\n",
    "\t\t\tdelta = abs(int(currentguess) - int(number))\n",
    "\t\t\tpreviousguess = currentguess\n",
    "\t\t\tprint('It\\'s COLD!')\n",
    "\t\t\tanswer = input('Do you want to continue Y/N: ')\n",
    "\t\t\tif answer.upper() == 'Y':\n",
    "\t\t\t\tcontinue\n",
    "\t\t\telse:\n",
    "\t\t\t\tbreak\n",
    "\t\telse:\n",
    "\t\t\tbreak\n",
    "\telif (int(currentguess) == number) and answer.upper() == 'Y':\n",
    "\t\tpreviousguess = None\n",
    "\t\tcurrentguess = None\n",
    "\t\tprint(f'Nice! You guessed it. It only took you {counter} times to guess it!')\n",
    "\t\tcounter = 0\n",
    "\t\tanswer = input('Do you want to continue Y/N: ')\n",
    "\t\tif answer.upper() =='Y':\n",
    "\t\t\tcontinue\n",
    "\t\telse:\n",
    "\t\t\tbreak\n",
    "\telif (int(currentguess) < 1 or int(currentguess) > 100) and answer.upper() == 'Y':\n",
    "\t\tprint('Sorry, out of bounds!')\n",
    "\t\tanswer = input('Do you want to continue Y/N: ')\n",
    "\t\tif answer.upper() == 'Y':\n",
    "\t\t\tcontinue\n",
    "\t\telse:\n",
    "\t\t\tbreak\n",
    "\telif (abs(int(currentguess) - int(number)) < int(delta)) and answer.upper() == 'Y':\n",
    "\t\tdelta = abs(int(currentguess) - int(number))\n",
    "\t\tprint('It\\'s getting WARMER!')\n",
    "\t\tpreviousguess = currentguess\n",
    "\t\tanswer = input('Do you want to continue Y/N: ')\n",
    "\t\tif answer.upper() == 'Y':\n",
    "\t\t\tcontinue\n",
    "\t\telse:\n",
    "\t\t\tbreak\n",
    "\telif (abs(int(currentguess) - int(number)) > int(delta)) and answer.upper() == 'Y':\n",
    "\t\tdelta = abs(int(currentguess) - int(number))\n",
    "\t\tprint('It\\'s getting COLDER!')\n",
    "\t\tpreviousguess = currentguess\n",
    "\t\tanswer = input('Do you want to continue Y/N: ')\n",
    "\t\tif answer.upper() == 'Y':\n",
    "\t\t\tcontinue\n",
    "\t\telse:\n",
    "\t\t\tbreak\n",
    "\telif (int(currentguess) == int(previousguess)) and answer.upper() == 'Y':\n",
    "\t\tprint('Errr....FYI....Your currentguess = to previousguess. Try another number')\n",
    "\t\tcontinue"
   ]
  },
  {
   "cell_type": "markdown",
   "metadata": {},
   "source": [
    "That's it! You've just programmed your first game!\n",
    "\n",
    "In the next section we'll learn how to turn some of these repetitive actions into *functions* that can be called whenever we need them."
   ]
  },
  {
   "cell_type": "markdown",
   "metadata": {},
   "source": [
    "### Good Job!"
   ]
  }
 ],
 "metadata": {
  "kernelspec": {
   "display_name": "Python 3",
   "language": "python",
   "name": "python3"
  },
  "language_info": {
   "codemirror_mode": {
    "name": "ipython",
    "version": 3
   },
   "file_extension": ".py",
   "mimetype": "text/x-python",
   "name": "python",
   "nbconvert_exporter": "python",
   "pygments_lexer": "ipython3",
   "version": "3.7.1"
  }
 },
 "nbformat": 4,
 "nbformat_minor": 2
}
