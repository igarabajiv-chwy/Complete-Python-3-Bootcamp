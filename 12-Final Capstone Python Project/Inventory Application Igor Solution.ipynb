{
 "cells": [
  {
   "cell_type": "markdown",
   "metadata": {},
   "source": [
    "Product Inventory Project - Create an application which manages an inventory of products. Create a product class which has a price, id, and quantity on hand. Then create an inventory class which keeps track of various products and can sum up the inventory value."
   ]
  },
  {
   "cell_type": "code",
   "execution_count": 1,
   "metadata": {},
   "outputs": [],
   "source": [
    "import ipywidgets as widgets\n",
    "from ipywidgets import interact,interactive\n",
    "from IPython.display import display, clear_output\n",
    "import pdb\n",
    "global validation_result\n",
    "validation_result=''\n",
    "global item\n",
    "global inventory\n",
    "global total_category\n",
    "global total_money\n",
    "global chkvalue\n",
    "global cat\n",
    "global prod\n",
    "chkvalue = ''\n",
    "item = {}\n",
    "inventory = {}\n",
    "total_category = dict()\n",
    "total_money = {}"
   ]
  },
  {
   "cell_type": "code",
   "execution_count": 2,
   "metadata": {},
   "outputs": [],
   "source": [
    "class Product:\n",
    "    unit_inventory = 0\n",
    "    \n",
    "    def __init__(self, id,name, category, price, amount):\n",
    "        self.id = id\n",
    "        self.name = name\n",
    "        self.category = category\n",
    "        self.price = price\n",
    "        self.amount = amount\n",
    "        \n",
    "            "
   ]
  },
  {
   "cell_type": "code",
   "execution_count": 3,
   "metadata": {},
   "outputs": [],
   "source": [
    "class Inventory(Product):\n",
    "    \n",
    "    def __init__(self,id,name, category, price, amount):\n",
    "        self.id = id\n",
    "        self.name = name\n",
    "        self.category = category\n",
    "        self.price = price\n",
    "        self.amount = amount\n",
    "        print(f'{self.name}, {self.category},{self.price}, {self.amount}')\n",
    "        print(f'Product was added to the ledger')    \n",
    "    \n",
    "        "
   ]
  },
  {
   "cell_type": "code",
   "execution_count": 4,
   "metadata": {
    "scrolled": false
   },
   "outputs": [
    {
     "data": {
      "application/vnd.jupyter.widget-view+json": {
       "model_id": "b0a62992fbf44d09b1a840b7ae17fd22",
       "version_major": 2,
       "version_minor": 0
      },
      "text/plain": [
       "Text(value='', description='Product ID:', layout=Layout(width='350px'), placeholder='Enter product ID', style=…"
      ]
     },
     "metadata": {},
     "output_type": "display_data"
    },
    {
     "data": {
      "application/vnd.jupyter.widget-view+json": {
       "model_id": "76f935a578f04827b32b6767b669bbe1",
       "version_major": 2,
       "version_minor": 0
      },
      "text/plain": [
       "Text(value='', description='Product name:', layout=Layout(width='350px'), placeholder='Enter product name', st…"
      ]
     },
     "metadata": {},
     "output_type": "display_data"
    },
    {
     "data": {
      "application/vnd.jupyter.widget-view+json": {
       "model_id": "47535fab1bdc43a8b65f65fd10b92f19",
       "version_major": 2,
       "version_minor": 0
      },
      "text/plain": [
       "Text(value='', description='Product category:', layout=Layout(width='350px'), placeholder='Enter product categ…"
      ]
     },
     "metadata": {},
     "output_type": "display_data"
    },
    {
     "data": {
      "application/vnd.jupyter.widget-view+json": {
       "model_id": "b1fb3ea781644a94836061ef552f08f2",
       "version_major": 2,
       "version_minor": 0
      },
      "text/plain": [
       "Text(value='', description='Product price:', layout=Layout(width='350px'), placeholder='Enter product price', …"
      ]
     },
     "metadata": {},
     "output_type": "display_data"
    },
    {
     "data": {
      "application/vnd.jupyter.widget-view+json": {
       "model_id": "ed8e43c6ad214261b0fa569fb79b3c0f",
       "version_major": 2,
       "version_minor": 0
      },
      "text/plain": [
       "Text(value='', description='Product amount:', layout=Layout(width='350px'), placeholder='Enter product amount'…"
      ]
     },
     "metadata": {},
     "output_type": "display_data"
    },
    {
     "data": {
      "application/vnd.jupyter.widget-view+json": {
       "model_id": "591fc37048d94a90ac4944084da78be4",
       "version_major": 2,
       "version_minor": 0
      },
      "text/plain": [
       "Button(button_style='info', description='Submit', style=ButtonStyle(), tooltip='Submit')"
      ]
     },
     "metadata": {},
     "output_type": "display_data"
    },
    {
     "name": "stdout",
     "output_type": "stream",
     "text": [
      "list of categories is {'fruit': ['apple']}\n",
      "item apple with pid value 1 was added to item dictionary\n",
      "item catalog is {'1': 'apple'}\n",
      "added inventory\n",
      "inventory catalog is {'apple': 25.0}\n",
      "total inventory value is {'apple': 375.0}\n",
      "==================================================\n",
      "Product can be added to the ledger\n",
      "item pineapple with pid value 2 was added to item dictionary\n",
      "item catalog is {'1': 'apple', '2': 'pineapple'}\n",
      "current inventory is {'apple': 25.0, 'pineapple': 34.0}\n",
      "total inventory value is {'apple': 375.0, 'pineapple': 1530.0}\n",
      "==================================================\n"
     ]
    }
   ],
   "source": [
    "#### from ipywidgets import Layout\n",
    "\n",
    "style = {'description_width': '125px'}\n",
    "layout = {'width': '350px'}\n",
    "\n",
    "pid = widgets.Text(description='Product ID:', placeholder='Enter product ID', disabled=False, style=style, layout=layout)\n",
    "name = widgets.Text(description='Product name:', placeholder='Enter product name', disabled=False, style=style, layout=layout)\n",
    "category = widgets.Text(description='Product category:', placeholder='Enter product category', disabled=False, style=style, layout=layout)\n",
    "price = widgets.Text(description='Product price:', placeholder='Enter product price', disabled=False, style=style, layout=layout)\n",
    "amount = widgets.Text(description='Product amount:', placeholder='Enter product amount', disabled=False, style=style, layout=layout)\n",
    "\n",
    "\n",
    "button = widgets.Button(\n",
    "    description='Submit',\n",
    "    disabled=False,\n",
    "    button_style='info', # 'success', 'info', 'warning', 'danger' or ''\n",
    "    tooltip='Submit',\n",
    "#     icon='check'\n",
    ")\n",
    "\n",
    "\n",
    "def value_validation():\n",
    "    global validation_result\n",
    "    if not (pid.value.isdigit() and price.value.isdigit() and amount.value.isdigit()):\n",
    "        print('Please correct Product ID value. It does appear to be a number')\n",
    "        validation_result = 'Validation not passed!'\n",
    "    elif (name.value.isdigit() or category.value.isdigit()):\n",
    "        print('Wrong value in the field. Please correct entry type')\n",
    "        validation_result = 'Validation not passed!'\n",
    "    else:\n",
    "        validation_result = 'Validation Passed'\n",
    "\n",
    "\n",
    "def validate():\n",
    "    global validation_result\n",
    "    if not (pid.value.isdigit() and price.value.isdigit() and amount.value.isdigit()):\n",
    "        print('Please correct field value. It does appear to be a number')\n",
    "        validation_result = 'Validation not passed!'\n",
    "    elif (name.value.isdigit() or category.value.isdigit()):\n",
    "        print('Wrong value in the field. Please correct entry type')\n",
    "        validation_result = 'Validation not passed!'\n",
    "    elif ((name.value not in item.values()) and (pid.value in item.keys())):\n",
    "        print(f'{name.value} field has wrong product ID. Please correct produc ID')\n",
    "        validation_result = 'Validation not passed!'\n",
    "    elif ((name.value in total_category.values() and category.value not in total_category.items())):\n",
    "        print(f'product {name.value} has wrong category')\n",
    "        validation_result = 'Validation not passed!'    \n",
    "    else:\n",
    "        print(f'Product can be added to the ledger')\n",
    "        validation_result = 'Validation Passed'      \n",
    "\n",
    "def clear():\n",
    "    pid.value=''\n",
    "    name.value=''\n",
    "    category.value=''\n",
    "    price.value=''\n",
    "    amount.value=''\n",
    "\n",
    "    \n",
    "def optimize():\n",
    "    output = []\n",
    "    for x in total_category.values():\n",
    "        output+=x\n",
    "    return output\n",
    "\n",
    "def retrieve_category_inventory_quantity():\n",
    "    cat_inv_qty=0\n",
    "    for x in list(cat.value):\n",
    "        for y in total_category[x]:\n",
    "            cat_inv_qty+=inventory[y]\n",
    "    return cat_inv_qty\n",
    "\n",
    "def retrieve_product_inventory_quantity():\n",
    "    prod_inv_qty=0\n",
    "    for x in list(prod.value):\n",
    "        prod_inv_qty+=inventory[x]\n",
    "    return prod_inv_qty\n",
    "\n",
    "def retrieve_category_inventory_value():\n",
    "    cat_inv_val=0\n",
    "    for a in list(cat.value):\n",
    "        for b in total_category[a]:\n",
    "            cat_inv_val+=total_money[b]\n",
    "    return cat_inv_val\n",
    "\n",
    "def retrieve_product_inventory_value():\n",
    "    prod_inv_val=0\n",
    "    for i in list(prod.value):\n",
    "        prod_inv_val+=total_money[i]\n",
    "    return prod_inv_val\n",
    "\n",
    "    \n",
    "display(pid, name, category, price, amount, button) \n",
    "\n",
    "\n",
    "def execute(y):\n",
    "    global validation_result\n",
    "    global item\n",
    "    global inventory\n",
    "    global total_category\n",
    "    global total_money\n",
    "    \n",
    "    \n",
    "    if len(item) ==0:\n",
    "        value_validation()\n",
    "    else:\n",
    "        validate()\n",
    "    \n",
    "    if validation_result == 'Validation Passed':\n",
    "        \n",
    "    \n",
    "        if not total_category:\n",
    "            total_category[category.value] = list([name.value]) #list(['pear'])\n",
    "            print(f'list of categories is {total_category}')\n",
    "        elif category.value not in total_category.keys():\n",
    "            total_category[category.value] = list([name.value])\n",
    "        elif name.value not in total_category[category.value]:\n",
    "            total_category[category.value].append(name.value) #test['fruit'].append('grape')\n",
    "            print(f'list of categories is {total_category}')\n",
    "        else:\n",
    "            pass\n",
    "    \n",
    "    \n",
    "        \n",
    "        if not item:\n",
    "            item[pid.value] = name.value\n",
    "            print(f'item {name.value} with pid value {pid.value} was added to item dictionary')\n",
    "            print(f'item catalog is {item}')\n",
    "        else:\n",
    "            item[pid.value] = name.value\n",
    "            print(f'item {name.value} with pid value {pid.value} was added to item dictionary')\n",
    "            print(f'item catalog is {item}')   \n",
    "        \n",
    "  \n",
    "        \n",
    "        if not inventory:\n",
    "            inventory[name.value] = float(amount.value)\n",
    "            total_money[name.value] = float(price.value)*float(amount.value)\n",
    "            print(f'added inventory')\n",
    "            print(f'inventory catalog is {inventory}')\n",
    "            print(f'total inventory value is {total_money}')\n",
    "        elif (name.value not in inventory.keys()):\n",
    "            inventory[name.value] = float(amount.value)\n",
    "            total_money[name.value] = float(amount.value) * float(price.value)\n",
    "            print(f'current inventory is {inventory}')\n",
    "            print(f'total inventory value is {total_money}')\n",
    "        else:\n",
    "            inventory[name.value] = float(inventory[name.value]) + float(amount.value)\n",
    "            total_money[name.value] = float(total_money[name.value]) + (float(amount.value) * float(price.value))\n",
    "            print(f'{name.value} added to inventory dictionary')\n",
    "            print(f'current inventory is {inventory}')\n",
    "            print(f'total inventory value is {total_money}')\n",
    "    \n",
    "    \n",
    "    print('='*50)\n",
    "    clear()\n",
    "    \n",
    "button.on_click(execute)    \n"
   ]
  },
  {
   "cell_type": "code",
   "execution_count": 14,
   "metadata": {},
   "outputs": [
    {
     "data": {
      "application/vnd.jupyter.widget-view+json": {
       "model_id": "de5633c6e4f14c86963d36ba628970db",
       "version_major": 2,
       "version_minor": 0
      },
      "text/plain": [
       "RadioButtons(options=('by Category', 'by Product Type'), value='by Category')"
      ]
     },
     "metadata": {},
     "output_type": "display_data"
    },
    {
     "data": {
      "application/vnd.jupyter.widget-view+json": {
       "model_id": "4b1f0c37b2614ee194bef1f9abd3ea2d",
       "version_major": 2,
       "version_minor": 0
      },
      "text/plain": [
       "SelectMultiple(description='Categories', layout=Layout(width='225px'), options=('fruit', 'citrus'), style=Desc…"
      ]
     },
     "metadata": {},
     "output_type": "display_data"
    },
    {
     "data": {
      "application/vnd.jupyter.widget-view+json": {
       "model_id": "3c8f2d539d044814a3fa72579054077c",
       "version_major": 2,
       "version_minor": 0
      },
      "text/plain": [
       "Button(button_style='info', description='Query', style=ButtonStyle(), tooltip='Query')"
      ]
     },
     "metadata": {},
     "output_type": "display_data"
    },
    {
     "name": "stdout",
     "output_type": "stream",
     "text": [
      "Total category inventory quantity is 34.0\n",
      "Total category inventory value is 1530.0\n",
      "==================================================\n",
      "Total category inventory quantity is 59.0\n",
      "Total category inventory value is 1905.0\n",
      "==================================================\n"
     ]
    }
   ],
   "source": [
    "txt_style = {'description_width': '85px'}\n",
    "txt_layout = {'width': '225px'}\n",
    "\n",
    "chk = widgets.RadioButtons(\n",
    "                options=['by Category', 'by Product Type'],\n",
    "                #value='pineapple',\n",
    "                #description='Category:',\n",
    "                disabled=False\n",
    "                )\n",
    "\n",
    "def txt_cat():\n",
    "    global cat\n",
    "    cat = widgets.SelectMultiple(\n",
    "                    options=total_category.keys(),\n",
    "                    #rows=10,\n",
    "                    description='Categories',\n",
    "                    disabled=False,\n",
    "                    style=txt_style, \n",
    "                    layout=txt_layout\n",
    "                    )\n",
    "    return cat\n",
    "\n",
    "def txt_prod():\n",
    "    global prod\n",
    "    prod = widgets.SelectMultiple(\n",
    "                    options=optimize(),\n",
    "                    #rows=10,\n",
    "                    description='Product types',\n",
    "                    disabled=False,\n",
    "                    style=txt_style, \n",
    "                    layout=txt_layout\n",
    "                    )\n",
    "    return prod\n",
    "\n",
    "btn = widgets.Button(\n",
    "                description='Query',\n",
    "                disabled=False,\n",
    "                button_style='info', # 'success', 'info', 'warning', 'danger' or ''\n",
    "                tooltip='Query',\n",
    "                #icon='check'\n",
    "                )\n",
    "\n",
    "def query_data(k):\n",
    "    global chk\n",
    "    global chkvalue\n",
    "    if chkvalue == 'by Product Type':\n",
    "        print(f'Total product inventory quantity is {retrieve_product_inventory_quantity()}')\n",
    "        print(f'Total product inventory value is {retrieve_product_inventory_value()}')\n",
    "        print('='*50)\n",
    "    elif chkvalue == 'by Category':\n",
    "        print(f'Total category inventory quantity is {retrieve_category_inventory_quantity()}')\n",
    "        print(f'Total category inventory value is {retrieve_category_inventory_value()}')\n",
    "    print('='*50)\n",
    "\n",
    "\n",
    "\n",
    "def on_value_change(change):\n",
    "    global cat\n",
    "    global prod\n",
    "    global chkvalue\n",
    "    txt_cat()\n",
    "    txt_prod()\n",
    "    chkvalue = chk.value\n",
    "    if chkvalue == 'by Category':\n",
    "        clear_output()    \n",
    "        display(chk,cat,btn)\n",
    "    else:\n",
    "        clear_output()\n",
    "        display(chk,prod,btn)\n",
    "    \n",
    "\n",
    "def query_data(k):\n",
    "    global chk\n",
    "    global chkvalue\n",
    "    if chkvalue == 'by Product Type':\n",
    "        print(f'Total product inventory quantity is {retrieve_product_inventory_quantity()}')\n",
    "        print(f'Total product inventory value is {retrieve_product_inventory_value()}')\n",
    "        print('='*50)\n",
    "    elif chkvalue == 'by Category':\n",
    "        print(f'Total category inventory quantity is {retrieve_category_inventory_quantity()}')\n",
    "        print(f'Total category inventory value is {retrieve_category_inventory_value()}')\n",
    "        print('='*50)\n",
    "\n",
    "print('Query Inventory and Dollar Value')\n",
    "display(chk)\n",
    "chk.observe(on_value_change, names='value')\n",
    "btn.on_click(query_data)  "
   ]
  },
  {
   "cell_type": "code",
   "execution_count": null,
   "metadata": {},
   "outputs": [],
   "source": []
  }
 ],
 "metadata": {
  "kernelspec": {
   "display_name": "Python 3",
   "language": "python",
   "name": "python3"
  },
  "language_info": {
   "codemirror_mode": {
    "name": "ipython",
    "version": 3
   },
   "file_extension": ".py",
   "mimetype": "text/x-python",
   "name": "python",
   "nbconvert_exporter": "python",
   "pygments_lexer": "ipython3",
   "version": "3.7.1"
  }
 },
 "nbformat": 4,
 "nbformat_minor": 2
}
